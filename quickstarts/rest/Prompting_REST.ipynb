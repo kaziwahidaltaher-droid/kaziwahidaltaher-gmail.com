{
  "cells": [
    {
      "cell_type": "markdown",
      "metadata": {
        "id": "view-in-github",
        "colab_type": "text"
      },
      "source": [
        "<a href=\"https://colab.research.google.com/github/kaziwahidaltaher-droid/kaziwahidaltaher-gmail.com/blob/main/quickstarts/rest/Prompting_REST.ipynb\" target=\"_parent\"><img src=\"https://colab.research.google.com/assets/colab-badge.svg\" alt=\"Open In Colab\"/></a>"
      ]
    },
    {
      "cell_type": "markdown",
      "metadata": {
        "id": "Tce3stUlHN0L"
      },
      "source": [
        "##### Copyright 2025 Google LLC."
      ]
    },
    {
      "cell_type": "code",
      "execution_count": 1,
      "metadata": {
        "id": "tuOe1ymfHZPu"
      },
      "outputs": [],
      "source": [
        "# @title Licensed under the Apache License, Version 2.0 (the \"License\");\n",
        "# you may not use this file except in compliance with the License.\n",
        "# You may obtain a copy of the License at\n",
        "#\n",
        "# https://www.apache.org/licenses/LICENSE-2.0\n",
        "#\n",
        "# Unless required by applicable law or agreed to in writing, software\n",
        "# distributed under the License is distributed on an \"AS IS\" BASIS,\n",
        "# WITHOUT WARRANTIES OR CONDITIONS OF ANY KIND, either express or implied.\n",
        "# See the License for the specific language governing permissions and\n",
        "# limitations under the License."
      ]
    },
    {
      "cell_type": "markdown",
      "metadata": {
        "id": "xmzgQqBasA0v"
      },
      "source": [
        "# Gemini API: Prompting Quickstart with REST\n",
        "\n",
        "<a target=\"_blank\" href=\"https://colab.research.google.com/github/google-gemini/cookbook/blob/main/quickstarts/rest/Prompting_REST.ipynb\"><img src=\"https://colab.research.google.com/assets/colab-badge.svg\" height=30/></a>"
      ]
    },
    {
      "cell_type": "markdown",
      "metadata": {
        "id": "265f8066d5d5"
      },
      "source": [
        "If you want to quickly try out the Gemini API, you can use `curl` commands to call the methods in the REST API.\n",
        "\n",
        "This notebook contains `curl` commands you can run in Google Colab, or copy to your terminal.\n",
        "\n",
        "To run this notebook, your API key must be stored it in a Colab Secret named GOOGLE_API_KEY. If you are running in a different environment, you can store your key in an environment variable. See [Authentication](https://github.com/google-gemini/cookbook/blob/main/quickstarts/Authentication.ipynb) to learn more."
      ]
    },
    {
      "cell_type": "code",
      "execution_count": 2,
      "metadata": {
        "id": "GgaOvPo_r2SB"
      },
      "outputs": [],
      "source": [
        "import os\n",
        "from google.colab import userdata"
      ]
    },
    {
      "cell_type": "code",
      "execution_count": 3,
      "metadata": {
        "id": "-PqX1RI_sjoV"
      },
      "outputs": [],
      "source": [
        "os.environ['GOOGLE_API_KEY'] = userdata.get('GOOGLE_API_KEY')"
      ]
    },
    {
      "cell_type": "markdown",
      "metadata": {
        "id": "9WjnnMbysntU"
      },
      "source": [
        "## Run your first prompt\n",
        "\n",
        "Use the `generateContent` method to generate responses to your prompts. You can pass text directly to `generateContent`.\n"
      ]
    },
    {
      "cell_type": "code",
      "execution_count": null,
      "metadata": {
        "id": "4eB7rHRpsw0L"
      },
      "outputs": [],
      "source": [
        "%%bash\n",
        "\n",
        "curl \"https://generativelanguage.googleapis.com/v1beta/models/gemini-2.0-flash:generateContent?key=$GOOGLE_API_KEY\" \\\n",
        "    -H 'Content-Type: application/json' \\\n",
        "    -X POST \\\n",
        "    -d '{\n",
        "      \"contents\": [{\n",
        "        \"parts\":[{\"text\": \"Give me python code to sort a list.\"}]\n",
        "        }]\n",
        "       }' 2> /dev/null"
      ]
    },
    {
      "cell_type": "markdown",
      "metadata": {
        "id": "JcvzZhMUs9q2"
      },
      "source": [
        "### Use images in your prompt\n",
        "\n",
        "Here you will download an image from a URL and pass that image in the prompt."
      ]
    },
    {
      "cell_type": "code",
      "execution_count": null,
      "metadata": {
        "id": "NpwYp7citE4l"
      },
      "outputs": [],
      "source": [
        "%%bash\n",
        "\n",
        "curl -o image.jpg \"https://storage.googleapis.com/generativeai-downloads/images/jetpack.jpg\""
      ]
    },
    {
      "cell_type": "code",
      "execution_count": null,
      "metadata": {
        "id": "ucoEV-IStHsu"
      },
      "outputs": [],
      "source": [
        "import PIL.Image\n",
        "\n",
        "img = PIL.Image.open(\"image.jpg\")\n",
        "img.resize((512, int(img.height*512/img.width)))"
      ]
    },
    {
      "cell_type": "markdown",
      "metadata": {
        "id": "ZZenFznXQvJF"
      },
      "source": [
        "Now you will base64 encode the image, and include it in the prompt.\n",
        "\n",
        "There are slight output differences of different base64 encoding tools, so you will need to pick the right one.\n",
        "\n",
        "The following will work in Google Colab."
      ]
    },
    {
      "cell_type": "code",
      "execution_count": null,
      "metadata": {
        "id": "r5pKFznERak4"
      },
      "outputs": [],
      "source": [
        "%%bash\n",
        "\n",
        "echo '{\n",
        "  \"contents\":[\n",
        "    {\n",
        "      \"parts\":[\n",
        "        {\"text\": \"This image contains a sketch of a potential product along with some notes. \\\n",
        "        Given the product sketch, describe the product as thoroughly as possible based on what you \\\n",
        "        see in the image, making sure to note all of the product features. Return output in json format: \\\n",
        "        {description: description, features: [feature1, feature2, feature3, etc]}\"},\n",
        "        {\n",
        "          \"inline_data\": {\n",
        "            \"mime_type\":\"image/jpeg\",\n",
        "            \"data\": \"'$(base64 -w0 image.jpg)'\"\n",
        "          }\n",
        "        }\n",
        "      ]\n",
        "    }\n",
        "  ]\n",
        "}' > request.json"
      ]
    },
    {
      "cell_type": "markdown",
      "metadata": {
        "id": "qFG3q7tJY2NW"
      },
      "source": [
        "Then you can include the image in the prompt by just passing in the `request.json` created to `generateContent`."
      ]
    },
    {
      "cell_type": "code",
      "execution_count": null,
      "metadata": {
        "id": "PEXoPG37Rceo"
      },
      "outputs": [],
      "source": [
        "%%bash\n",
        "\n",
        "curl \"https://generativelanguage.googleapis.com/v1beta/models/gemini-2.0-flash:generateContent?key=${GOOGLE_API_KEY}\" \\\n",
        "        -H 'Content-Type: application/json' \\\n",
        "        -d @request.json"
      ]
    },
    {
      "cell_type": "markdown",
      "metadata": {
        "id": "UjtoueAPQmMe"
      },
      "source": [
        "If you are running on a Mac, copy and paste this command into your terminal instead."
      ]
    },
    {
      "cell_type": "markdown",
      "metadata": {
        "id": "miPi9m0eQgN8"
      },
      "source": [
        "```\n",
        "curl \"https://generativelanguage.googleapis.com/v1beta/models/gemini-2.0-flash:generateContent?key=${GOOGLE_API_KEY}\" \\\n",
        "        -H 'Content-Type: application/json' \\\n",
        "        -d '{\n",
        "  \"contents\":[\n",
        "    {\n",
        "      \"parts\":[\n",
        "        {\"text\": \"foo\"},\n",
        "        {\n",
        "          \"inline_data\": {\n",
        "            \"mime_type\":\"image/jpeg\",\n",
        "            \"data\": \"'$(base64 -i image.jpg)'\"\n",
        "          }\n",
        "        }\n",
        "      ]\n",
        "    }\n",
        "  ]\n",
        "}'   2> /dev/null  | grep -C 5 \"text\"\n",
        "```"
      ]
    },
    {
      "cell_type": "markdown",
      "metadata": {
        "id": "gpMssqFdNRDS"
      },
      "source": [
        "Here image is being `base64` encoded, then savie the curl request with the image data in a JSON file. Run this cell to see which version of `base64` you have. Based on the output, you may need to run this request on either a Mac or on Colab."
      ]
    },
    {
      "cell_type": "code",
      "execution_count": null,
      "metadata": {
        "id": "nnCtnzdDO6kW"
      },
      "outputs": [],
      "source": [
        "%%bash\n",
        "\n",
        "base64 --version | head -n 1"
      ]
    },
    {
      "cell_type": "markdown",
      "metadata": {
        "id": "rNVbculVPIyK"
      },
      "source": [
        "If you get `FreeBSD base64 ...`, (Mac) use `base64 -i`.\n",
        "\n",
        "If you get `base64 (GNU coreutils)...` (Colab) use `base64 -w0`."
      ]
    },
    {
      "cell_type": "markdown",
      "metadata": {
        "id": "KphGNbSG4AlQ"
      },
      "source": [
        "### Have a chat\n",
        "\n",
        "The Gemini API enables you to have freeform conversations across multiple turns."
      ]
    },
    {
      "cell_type": "code",
      "execution_count": null,
      "metadata": {
        "id": "u-ZiCr3l4sif"
      },
      "outputs": [],
      "source": [
        "%%bash\n",
        "curl \"https://generativelanguage.googleapis.com/v1beta/models/gemini-2.0-flash:generateContent?key=$GOOGLE_API_KEY\" \\\n",
        "    -H 'Content-Type: application/json' \\\n",
        "    -X POST \\\n",
        "    -d '{\n",
        "      \"contents\": [\n",
        "        {\"role\":\"user\",\n",
        "         \"parts\":[{\n",
        "           \"text\": \"In one sentence, explain how a computer works to a young child.\"}]},\n",
        "        {\"role\": \"model\",\n",
        "         \"parts\":[{\n",
        "           \"text\": \"A computer is like a smart helper that can store information, do math problems, and follow our instructions to make things happen.\"}]},\n",
        "        {\"role\": \"user\",\n",
        "         \"parts\":[{\n",
        "           \"text\": \"Okay, how about a more detailed explanation to a high schooler?\"}]},\n",
        "      ]\n",
        "    }' 2> /dev/null | grep -C 5 \"text\""
      ]
    },
    {
      "cell_type": "markdown",
      "metadata": {
        "id": "OCpQfq4H5pYH"
      },
      "source": [
        "### Configuration\n",
        "\n",
        "Every prompt you send to the model includes parameter values that control how the model generates a response. The model can generate different results for different parameter values. Learn more about [model parameters](https://ai.google.dev/docs/concepts#model_parameters).\n",
        "\n",
        "For instance, `temperature` controls the degree of randomness in token selection. Use higher values for more creative responses, and lower values for more deterministic responses.\n",
        "\n",
        "The following example specifies values for all the parameters of the `generateContent` method."
      ]
    },
    {
      "cell_type": "code",
      "execution_count": null,
      "metadata": {
        "id": "2dur4CGN6iXj"
      },
      "outputs": [],
      "source": [
        "%%bash\n",
        "\n",
        "curl \"https://generativelanguage.googleapis.com/v1beta/models/gemini-2.0-flash:generateContent?key=$GOOGLE_API_KEY\" \\\n",
        "    -H 'Content-Type: application/json' \\\n",
        "    -X POST \\\n",
        "    -d '{\n",
        "        \"contents\": [{\n",
        "            \"parts\":[\n",
        "                {\"text\": \"Give me a numbered list of cat facts.\"}\n",
        "            ]\n",
        "        }],\n",
        "        \"safetySettings\": [\n",
        "            {\n",
        "                \"category\": \"HARM_CATEGORY_DANGEROUS_CONTENT\",\n",
        "                \"threshold\": \"BLOCK_ONLY_HIGH\"\n",
        "            }\n",
        "        ],\n",
        "        \"generationConfig\": {\n",
        "            \"stopSequences\": [\n",
        "                \"Title\"\n",
        "            ],\n",
        "            \"temperature\": 0.9,\n",
        "            \"maxOutputTokens\": 2000,\n",
        "        }\n",
        "    }'  2> /dev/null | grep \"text\""
      ]
    },
    {
      "cell_type": "markdown",
      "metadata": {
        "id": "pCS37WdchZiZ"
      },
      "source": [
        "## Next steps\n",
        "\n",
        "The Gemini API has configurable safety settings. Learn more [here](https://github.com/google-gemini/cookbook/blob/main/quickstarts/rest/Safety_REST.ipynb)."
      ]
    }
  ],
  "metadata": {
    "colab": {
      "name": "Prompting_REST.ipynb",
      "toc_visible": true,
      "provenance": [],
      "include_colab_link": true
    },
    "kernelspec": {
      "display_name": "Python 3",
      "name": "python3"
    }
  },
  "nbformat": 4,
  "nbformat_minor": 0
}